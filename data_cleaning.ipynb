{
 "cells": [
  {
   "cell_type": "code",
   "execution_count": 15,
   "metadata": {},
   "outputs": [
    {
     "name": "stdout",
     "output_type": "stream",
     "text": [
      "The autoreload extension is already loaded. To reload it, use:\n",
      "  %reload_ext autoreload\n"
     ]
    }
   ],
   "source": [
    "\n",
    "%load_ext autoreload\n",
    "%autoreload 2\n",
    "import pandas as pd\n",
    "import numpy as np\n",
    "from utils import *"
   ]
  },
  {
   "cell_type": "code",
   "execution_count": 16,
   "metadata": {},
   "outputs": [],
   "source": [
    "file_name = \"nips_2022\"\n",
    "df = pd.read_csv(f\"{file_name}.csv\")"
   ]
  },
  {
   "cell_type": "code",
   "execution_count": 17,
   "metadata": {},
   "outputs": [
    {
     "data": {
      "text/html": [
       "<div>\n",
       "<style scoped>\n",
       "    .dataframe tbody tr th:only-of-type {\n",
       "        vertical-align: middle;\n",
       "    }\n",
       "\n",
       "    .dataframe tbody tr th {\n",
       "        vertical-align: top;\n",
       "    }\n",
       "\n",
       "    .dataframe thead th {\n",
       "        text-align: right;\n",
       "    }\n",
       "</style>\n",
       "<table border=\"1\" class=\"dataframe\">\n",
       "  <thead>\n",
       "    <tr style=\"text-align: right;\">\n",
       "      <th></th>\n",
       "      <th>title</th>\n",
       "      <th>authors</th>\n",
       "      <th>abstract</th>\n",
       "      <th>year</th>\n",
       "    </tr>\n",
       "  </thead>\n",
       "  <tbody>\n",
       "    <tr>\n",
       "      <th>0</th>\n",
       "      <td>Federated Submodel Optimization for Hot and Co...</td>\n",
       "      <td>Yucheng Ding, Chaoyue Niu, Fan Wu, Shaojie Tan...</td>\n",
       "      <td>We focus on federated learning in practical re...</td>\n",
       "      <td>2022</td>\n",
       "    </tr>\n",
       "    <tr>\n",
       "      <th>1</th>\n",
       "      <td>On Kernelized Multi-Armed Bandits with Constra...</td>\n",
       "      <td>Xingyu Zhou, Bo Ji</td>\n",
       "      <td>We study a stochastic bandit problem with a ge...</td>\n",
       "      <td>2022</td>\n",
       "    </tr>\n",
       "    <tr>\n",
       "      <th>2</th>\n",
       "      <td>Geometric Order Learning for Rank Estimation</td>\n",
       "      <td>Seon-Ho Lee, Nyeong Ho Shin, Chang-Su Kim</td>\n",
       "      <td>A novel approach to rank estimation, called ge...</td>\n",
       "      <td>2022</td>\n",
       "    </tr>\n",
       "    <tr>\n",
       "      <th>3</th>\n",
       "      <td>Structured Recognition for Generative Models w...</td>\n",
       "      <td>Changmin Yu, Hugo Soulat, Neil Burgess, Manees...</td>\n",
       "      <td>A key goal of unsupervised learning is to go b...</td>\n",
       "      <td>2022</td>\n",
       "    </tr>\n",
       "    <tr>\n",
       "      <th>4</th>\n",
       "      <td>Fast Bayesian Coresets via Subsampling and Qua...</td>\n",
       "      <td>Cian Naik, Judith Rousseau, Trevor Campbell</td>\n",
       "      <td>Bayesian coresets approximate a posterior dist...</td>\n",
       "      <td>2022</td>\n",
       "    </tr>\n",
       "    <tr>\n",
       "      <th>...</th>\n",
       "      <td>...</td>\n",
       "      <td>...</td>\n",
       "      <td>...</td>\n",
       "      <td>...</td>\n",
       "    </tr>\n",
       "    <tr>\n",
       "      <th>2620</th>\n",
       "      <td>Neural Transmitted Radiance Fields</td>\n",
       "      <td>Chengxuan Zhu, Renjie Wan, Boxin Shi</td>\n",
       "      <td>Neural radiance fields (NeRF) have brought tre...</td>\n",
       "      <td>2022</td>\n",
       "    </tr>\n",
       "    <tr>\n",
       "      <th>2621</th>\n",
       "      <td>Unsupervised Skill Discovery via Recurrent Ski...</td>\n",
       "      <td>Zheyuan Jiang, Jingyue Gao, Jianyu Chen</td>\n",
       "      <td>Being able to discover diverse useful skills w...</td>\n",
       "      <td>2022</td>\n",
       "    </tr>\n",
       "    <tr>\n",
       "      <th>2622</th>\n",
       "      <td>Structural Kernel Search via Bayesian Optimiza...</td>\n",
       "      <td>Matthias Bitzer, Mona Meister, Christoph Zimmer</td>\n",
       "      <td>Despite recent advances in automated machine l...</td>\n",
       "      <td>2022</td>\n",
       "    </tr>\n",
       "    <tr>\n",
       "      <th>2623</th>\n",
       "      <td>Near-Optimal No-Regret Learning Dynamics for G...</td>\n",
       "      <td>Gabriele Farina, Ioannis Anagnostides, Haipeng...</td>\n",
       "      <td>A recent line of work has established un...</td>\n",
       "      <td>2022</td>\n",
       "    </tr>\n",
       "    <tr>\n",
       "      <th>2624</th>\n",
       "      <td>OTKGE: Multi-modal Knowledge Graph Embeddings ...</td>\n",
       "      <td>Zongsheng Cao, Qianqian Xu, Zhiyong Yang, Yuan...</td>\n",
       "      <td>Multi-modal knowledge graph embeddings (KGE) h...</td>\n",
       "      <td>2022</td>\n",
       "    </tr>\n",
       "  </tbody>\n",
       "</table>\n",
       "<p>2625 rows × 4 columns</p>\n",
       "</div>"
      ],
      "text/plain": [
       "                                                  title  \\\n",
       "0     Federated Submodel Optimization for Hot and Co...   \n",
       "1     On Kernelized Multi-Armed Bandits with Constra...   \n",
       "2          Geometric Order Learning for Rank Estimation   \n",
       "3     Structured Recognition for Generative Models w...   \n",
       "4     Fast Bayesian Coresets via Subsampling and Qua...   \n",
       "...                                                 ...   \n",
       "2620                 Neural Transmitted Radiance Fields   \n",
       "2621  Unsupervised Skill Discovery via Recurrent Ski...   \n",
       "2622  Structural Kernel Search via Bayesian Optimiza...   \n",
       "2623  Near-Optimal No-Regret Learning Dynamics for G...   \n",
       "2624  OTKGE: Multi-modal Knowledge Graph Embeddings ...   \n",
       "\n",
       "                                                authors  \\\n",
       "0     Yucheng Ding, Chaoyue Niu, Fan Wu, Shaojie Tan...   \n",
       "1                                    Xingyu Zhou, Bo Ji   \n",
       "2             Seon-Ho Lee, Nyeong Ho Shin, Chang-Su Kim   \n",
       "3     Changmin Yu, Hugo Soulat, Neil Burgess, Manees...   \n",
       "4           Cian Naik, Judith Rousseau, Trevor Campbell   \n",
       "...                                                 ...   \n",
       "2620               Chengxuan Zhu, Renjie Wan, Boxin Shi   \n",
       "2621            Zheyuan Jiang, Jingyue Gao, Jianyu Chen   \n",
       "2622    Matthias Bitzer, Mona Meister, Christoph Zimmer   \n",
       "2623  Gabriele Farina, Ioannis Anagnostides, Haipeng...   \n",
       "2624  Zongsheng Cao, Qianqian Xu, Zhiyong Yang, Yuan...   \n",
       "\n",
       "                                               abstract  year  \n",
       "0     We focus on federated learning in practical re...  2022  \n",
       "1     We study a stochastic bandit problem with a ge...  2022  \n",
       "2     A novel approach to rank estimation, called ge...  2022  \n",
       "3     A key goal of unsupervised learning is to go b...  2022  \n",
       "4     Bayesian coresets approximate a posterior dist...  2022  \n",
       "...                                                 ...   ...  \n",
       "2620  Neural radiance fields (NeRF) have brought tre...  2022  \n",
       "2621  Being able to discover diverse useful skills w...  2022  \n",
       "2622  Despite recent advances in automated machine l...  2022  \n",
       "2623        A recent line of work has established un...  2022  \n",
       "2624  Multi-modal knowledge graph embeddings (KGE) h...  2022  \n",
       "\n",
       "[2625 rows x 4 columns]"
      ]
     },
     "execution_count": 17,
     "metadata": {},
     "output_type": "execute_result"
    }
   ],
   "source": [
    "df"
   ]
  },
  {
   "attachments": {},
   "cell_type": "markdown",
   "metadata": {},
   "source": [
    "Remove URLS"
   ]
  },
  {
   "cell_type": "code",
   "execution_count": 18,
   "metadata": {},
   "outputs": [],
   "source": [
    "# ignore_keywords = [\"https\",\"github\", \"com\", \"code\", \"available\", \"source\"]\n",
    "ignore_keywords = [\"https\",\"github\", \".com\"]"
   ]
  },
  {
   "cell_type": "code",
   "execution_count": 19,
   "metadata": {},
   "outputs": [
    {
     "name": "stdout",
     "output_type": "stream",
     "text": [
      "dropping 405 rows\n"
     ]
    }
   ],
   "source": [
    "rows_to_drop = df[\"abstract\"].apply(lambda x: detect_keywords(x, ignore_keywords))\n",
    "print(f\"dropping {np.sum(rows_to_drop)} rows\")"
   ]
  },
  {
   "cell_type": "code",
   "execution_count": 14,
   "metadata": {},
   "outputs": [
    {
     "name": "stdout",
     "output_type": "stream",
     "text": [
      "before dropping, the size is (2625, 4)\n",
      "after dropping, the size is (2220, 4)\n"
     ]
    }
   ],
   "source": [
    "print(f\"before dropping, the size is {df.shape}\")\n",
    "clean_df = df.loc[rows_to_drop == False]\n",
    "clean_df.reindex()\n",
    "print(f\"after dropping, the size is {clean_df.shape}\")"
   ]
  },
  {
   "attachments": {},
   "cell_type": "markdown",
   "metadata": {},
   "source": [
    "Remove Latex"
   ]
  },
  {
   "cell_type": "code",
   "execution_count": 20,
   "metadata": {},
   "outputs": [
    {
     "name": "stderr",
     "output_type": "stream",
     "text": [
      "C:\\Users\\echen\\AppData\\Local\\Temp\\ipykernel_14060\\3652284618.py:1: SettingWithCopyWarning: \n",
      "A value is trying to be set on a copy of a slice from a DataFrame.\n",
      "Try using .loc[row_indexer,col_indexer] = value instead\n",
      "\n",
      "See the caveats in the documentation: https://pandas.pydata.org/pandas-docs/stable/user_guide/indexing.html#returning-a-view-versus-a-copy\n",
      "  clean_df[\"abstract\"] = clean_df[\"abstract\"].str.replace('\\$.+?\\$', '', regex=True)\n"
     ]
    }
   ],
   "source": [
    "clean_df[\"abstract\"] = clean_df[\"abstract\"].str.replace('\\$.+?\\$', '', regex=True)"
   ]
  },
  {
   "cell_type": "code",
   "execution_count": 8,
   "metadata": {},
   "outputs": [],
   "source": [
    "# comment out saving the data\n",
    "# clean_df.to_csv(f\"{file_name}_clean2.csv\")"
   ]
  },
  {
   "cell_type": "code",
   "execution_count": null,
   "metadata": {},
   "outputs": [],
   "source": []
  },
  {
   "cell_type": "code",
   "execution_count": null,
   "metadata": {},
   "outputs": [],
   "source": []
  },
  {
   "cell_type": "code",
   "execution_count": null,
   "metadata": {},
   "outputs": [],
   "source": []
  },
  {
   "cell_type": "code",
   "execution_count": null,
   "metadata": {},
   "outputs": [],
   "source": []
  }
 ],
 "metadata": {
  "kernelspec": {
   "display_name": "base",
   "language": "python",
   "name": "python3"
  },
  "language_info": {
   "codemirror_mode": {
    "name": "ipython",
    "version": 3
   },
   "file_extension": ".py",
   "mimetype": "text/x-python",
   "name": "python",
   "nbconvert_exporter": "python",
   "pygments_lexer": "ipython3",
   "version": "3.9.12"
  },
  "orig_nbformat": 4
 },
 "nbformat": 4,
 "nbformat_minor": 2
}
