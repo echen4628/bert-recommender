{
 "cells": [
  {
   "cell_type": "code",
   "execution_count": 1,
   "metadata": {},
   "outputs": [],
   "source": [
    "\n",
    "%load_ext autoreload\n",
    "%autoreload 2\n",
    "import pandas as pd\n",
    "import numpy as np\n",
    "from utils import *"
   ]
  },
  {
   "cell_type": "code",
   "execution_count": 19,
   "metadata": {},
   "outputs": [],
   "source": [
    "file_name = \"nips_2019\"\n",
    "df = pd.read_csv(f\"{file_name}.csv\")"
   ]
  },
  {
   "cell_type": "code",
   "execution_count": 20,
   "metadata": {},
   "outputs": [
    {
     "data": {
      "text/html": [
       "<div>\n",
       "<style scoped>\n",
       "    .dataframe tbody tr th:only-of-type {\n",
       "        vertical-align: middle;\n",
       "    }\n",
       "\n",
       "    .dataframe tbody tr th {\n",
       "        vertical-align: top;\n",
       "    }\n",
       "\n",
       "    .dataframe thead th {\n",
       "        text-align: right;\n",
       "    }\n",
       "</style>\n",
       "<table border=\"1\" class=\"dataframe\">\n",
       "  <thead>\n",
       "    <tr style=\"text-align: right;\">\n",
       "      <th></th>\n",
       "      <th>title</th>\n",
       "      <th>authors</th>\n",
       "      <th>abstract</th>\n",
       "      <th>year</th>\n",
       "    </tr>\n",
       "  </thead>\n",
       "  <tbody>\n",
       "    <tr>\n",
       "      <th>0</th>\n",
       "      <td>Compositional Plan Vectors</td>\n",
       "      <td>Coline Devin, Daniel Geng, Pieter Abbeel, Trev...</td>\n",
       "      <td>Autonomous agents situated in real-world envir...</td>\n",
       "      <td>2019</td>\n",
       "    </tr>\n",
       "    <tr>\n",
       "      <th>1</th>\n",
       "      <td>Learning to Propagate for Graph Meta-Learning</td>\n",
       "      <td>LU LIU, Tianyi Zhou, Guodong Long, Jing Jiang,...</td>\n",
       "      <td>Meta-learning extracts the common knowledge fr...</td>\n",
       "      <td>2019</td>\n",
       "    </tr>\n",
       "    <tr>\n",
       "      <th>2</th>\n",
       "      <td>XNAS: Neural Architecture Search with Expert A...</td>\n",
       "      <td>Niv Nayman, Asaf Noy, Tal Ridnik, Itamar Fried...</td>\n",
       "      <td>This paper introduces a novel optimization met...</td>\n",
       "      <td>2019</td>\n",
       "    </tr>\n",
       "    <tr>\n",
       "      <th>3</th>\n",
       "      <td>Multi-resolution Multi-task Gaussian Processes</td>\n",
       "      <td>Oliver Hamelijnck, Theodoros Damoulas, Kangrui...</td>\n",
       "      <td>We consider evidence integration from potentia...</td>\n",
       "      <td>2019</td>\n",
       "    </tr>\n",
       "    <tr>\n",
       "      <th>4</th>\n",
       "      <td>Deep Equilibrium Models</td>\n",
       "      <td>Shaojie Bai, J. Zico Kolter, Vladlen Koltun</td>\n",
       "      <td>We present a new approach to modeling sequenti...</td>\n",
       "      <td>2019</td>\n",
       "    </tr>\n",
       "    <tr>\n",
       "      <th>...</th>\n",
       "      <td>...</td>\n",
       "      <td>...</td>\n",
       "      <td>...</td>\n",
       "      <td>...</td>\n",
       "    </tr>\n",
       "    <tr>\n",
       "      <th>1391</th>\n",
       "      <td>Discrete Object Generation with Reversible Ind...</td>\n",
       "      <td>Ari Seff, Wenda Zhou, Farhan Damani, Abigail D...</td>\n",
       "      <td>The success of generative modeling in continuo...</td>\n",
       "      <td>2019</td>\n",
       "    </tr>\n",
       "    <tr>\n",
       "      <th>1392</th>\n",
       "      <td>Adaptively Aligned Image Captioning via Adapti...</td>\n",
       "      <td>Lun Huang, Wenmin Wang, Yaxian Xia, Jie Chen</td>\n",
       "      <td>Recent neural models for image captioning usua...</td>\n",
       "      <td>2019</td>\n",
       "    </tr>\n",
       "    <tr>\n",
       "      <th>1393</th>\n",
       "      <td>Fully Dynamic Consistent Facility Location</td>\n",
       "      <td>Vincent Cohen-Addad, Niklas Oskar D. Hjuler, N...</td>\n",
       "      <td>We consider classic clustering problems in ful...</td>\n",
       "      <td>2019</td>\n",
       "    </tr>\n",
       "    <tr>\n",
       "      <th>1394</th>\n",
       "      <td>Efficient Rematerialization for Deep Networks</td>\n",
       "      <td>Ravi Kumar, Manish Purohit, Zoya Svitkina, Eri...</td>\n",
       "      <td>When training complex neural networks, memory ...</td>\n",
       "      <td>2019</td>\n",
       "    </tr>\n",
       "    <tr>\n",
       "      <th>1395</th>\n",
       "      <td>Flow-based Image-to-Image Translation with Fea...</td>\n",
       "      <td>Ruho Kondo, Keisuke Kawano, Satoshi Koide, Tak...</td>\n",
       "      <td>Learning non-deterministic dynamics and intrin...</td>\n",
       "      <td>2019</td>\n",
       "    </tr>\n",
       "  </tbody>\n",
       "</table>\n",
       "<p>1396 rows × 4 columns</p>\n",
       "</div>"
      ],
      "text/plain": [
       "                                                  title  \\\n",
       "0                            Compositional Plan Vectors   \n",
       "1         Learning to Propagate for Graph Meta-Learning   \n",
       "2     XNAS: Neural Architecture Search with Expert A...   \n",
       "3        Multi-resolution Multi-task Gaussian Processes   \n",
       "4                               Deep Equilibrium Models   \n",
       "...                                                 ...   \n",
       "1391  Discrete Object Generation with Reversible Ind...   \n",
       "1392  Adaptively Aligned Image Captioning via Adapti...   \n",
       "1393         Fully Dynamic Consistent Facility Location   \n",
       "1394      Efficient Rematerialization for Deep Networks   \n",
       "1395  Flow-based Image-to-Image Translation with Fea...   \n",
       "\n",
       "                                                authors  \\\n",
       "0     Coline Devin, Daniel Geng, Pieter Abbeel, Trev...   \n",
       "1     LU LIU, Tianyi Zhou, Guodong Long, Jing Jiang,...   \n",
       "2     Niv Nayman, Asaf Noy, Tal Ridnik, Itamar Fried...   \n",
       "3     Oliver Hamelijnck, Theodoros Damoulas, Kangrui...   \n",
       "4           Shaojie Bai, J. Zico Kolter, Vladlen Koltun   \n",
       "...                                                 ...   \n",
       "1391  Ari Seff, Wenda Zhou, Farhan Damani, Abigail D...   \n",
       "1392       Lun Huang, Wenmin Wang, Yaxian Xia, Jie Chen   \n",
       "1393  Vincent Cohen-Addad, Niklas Oskar D. Hjuler, N...   \n",
       "1394  Ravi Kumar, Manish Purohit, Zoya Svitkina, Eri...   \n",
       "1395  Ruho Kondo, Keisuke Kawano, Satoshi Koide, Tak...   \n",
       "\n",
       "                                               abstract  year  \n",
       "0     Autonomous agents situated in real-world envir...  2019  \n",
       "1     Meta-learning extracts the common knowledge fr...  2019  \n",
       "2     This paper introduces a novel optimization met...  2019  \n",
       "3     We consider evidence integration from potentia...  2019  \n",
       "4     We present a new approach to modeling sequenti...  2019  \n",
       "...                                                 ...   ...  \n",
       "1391  The success of generative modeling in continuo...  2019  \n",
       "1392  Recent neural models for image captioning usua...  2019  \n",
       "1393  We consider classic clustering problems in ful...  2019  \n",
       "1394  When training complex neural networks, memory ...  2019  \n",
       "1395  Learning non-deterministic dynamics and intrin...  2019  \n",
       "\n",
       "[1396 rows x 4 columns]"
      ]
     },
     "execution_count": 20,
     "metadata": {},
     "output_type": "execute_result"
    }
   ],
   "source": [
    "df"
   ]
  },
  {
   "cell_type": "code",
   "execution_count": 21,
   "metadata": {},
   "outputs": [],
   "source": [
    "# ignore_keywords = [\"https\",\"github\", \"com\", \"code\", \"available\", \"source\"]\n",
    "ignore_keywords = [\"https\",\"github\", \".com\"]"
   ]
  },
  {
   "cell_type": "code",
   "execution_count": 22,
   "metadata": {},
   "outputs": [
    {
     "name": "stdout",
     "output_type": "stream",
     "text": [
      "dropping 69 rows\n"
     ]
    }
   ],
   "source": [
    "rows_to_drop = df[\"abstract\"].apply(lambda x: detect_keywords(x, ignore_keywords))\n",
    "print(f\"dropping {np.sum(rows_to_drop)} rows\")"
   ]
  },
  {
   "cell_type": "code",
   "execution_count": 23,
   "metadata": {},
   "outputs": [
    {
     "name": "stdout",
     "output_type": "stream",
     "text": [
      "before dropping, the size is (1396, 4)\n",
      "after dropping, the size is (1327, 4)\n"
     ]
    }
   ],
   "source": [
    "print(f\"before dropping, the size is {df.shape}\")\n",
    "clean_df = df.loc[rows_to_drop == False]\n",
    "clean_df.reindex()\n",
    "print(f\"after dropping, the size is {clean_df.shape}\")"
   ]
  },
  {
   "cell_type": "code",
   "execution_count": 24,
   "metadata": {},
   "outputs": [
    {
     "name": "stderr",
     "output_type": "stream",
     "text": [
      "C:\\Users\\echen\\AppData\\Local\\Temp\\ipykernel_34960\\1094157469.py:1: SettingWithCopyWarning: \n",
      "A value is trying to be set on a copy of a slice from a DataFrame.\n",
      "Try using .loc[row_indexer,col_indexer] = value instead\n",
      "\n",
      "See the caveats in the documentation: https://pandas.pydata.org/pandas-docs/stable/user_guide/indexing.html#returning-a-view-versus-a-copy\n",
      "  clean_df[\"abstract\"] = clean_df[\"abstract\"].str.replace('\\$.*\\$', '', regex=True)\n"
     ]
    }
   ],
   "source": [
    "clean_df[\"abstract\"] = clean_df[\"abstract\"].str.replace('\\$.*\\$', '', regex=True)"
   ]
  },
  {
   "cell_type": "code",
   "execution_count": 25,
   "metadata": {},
   "outputs": [],
   "source": [
    "clean_df.to_csv(f\"{file_name}_clean2.csv\")"
   ]
  },
  {
   "cell_type": "code",
   "execution_count": null,
   "metadata": {},
   "outputs": [],
   "source": []
  },
  {
   "cell_type": "code",
   "execution_count": null,
   "metadata": {},
   "outputs": [],
   "source": []
  }
 ],
 "metadata": {
  "kernelspec": {
   "display_name": "base",
   "language": "python",
   "name": "python3"
  },
  "language_info": {
   "codemirror_mode": {
    "name": "ipython",
    "version": 3
   },
   "file_extension": ".py",
   "mimetype": "text/x-python",
   "name": "python",
   "nbconvert_exporter": "python",
   "pygments_lexer": "ipython3",
   "version": "3.9.12"
  },
  "orig_nbformat": 4
 },
 "nbformat": 4,
 "nbformat_minor": 2
}
