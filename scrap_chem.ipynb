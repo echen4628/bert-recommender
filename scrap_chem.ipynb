{
 "cells": [
  {
   "cell_type": "code",
   "execution_count": null,
   "metadata": {},
   "outputs": [],
   "source": [
    "https://pubs.acs.org/toc/iecred/57/51"
   ]
  },
  {
   "cell_type": "code",
   "execution_count": 1,
   "metadata": {},
   "outputs": [],
   "source": [
    "from bs4 import BeautifulSoup\n",
    "import requests\n",
    "import os\n",
    "import pandas as pd\n",
    "import pdb\n",
    "from tqdm import tqdm"
   ]
  },
  {
   "cell_type": "code",
   "execution_count": 2,
   "metadata": {},
   "outputs": [
    {
     "name": "stdout",
     "output_type": "stream",
     "text": [
      "https://pubs.acs.org/toc/iecred/5751\n"
     ]
    }
   ],
   "source": [
    "baseurl = \"https://pubs.acs.org/toc/iecred/57\"\n",
    "url_2019 = baseurl + \"51\"\n",
    "print(url_2019)"
   ]
  },
  {
   "cell_type": "code",
   "execution_count": 7,
   "metadata": {},
   "outputs": [
    {
     "name": "stderr",
     "output_type": "stream",
     "text": [
      "C:\\Users\\echen\\AppData\\Local\\Temp\\ipykernel_1768\\3472690341.py:7: DeprecationWarning: executable_path has been deprecated, please pass in a Service object\n",
      "  driver = webdriver.Chrome(\"/usr/lib/chromium-browser/chromedriver\", chrome_options=options)\n",
      "C:\\Users\\echen\\AppData\\Local\\Temp\\ipykernel_1768\\3472690341.py:7: DeprecationWarning: use options instead of chrome_options\n",
      "  driver = webdriver.Chrome(\"/usr/lib/chromium-browser/chromedriver\", chrome_options=options)\n"
     ]
    }
   ],
   "source": [
    "from selenium import webdriver\n",
    "\n",
    "options = webdriver.ChromeOptions()\n",
    "options.add_argument('--ignore-certificate-errors')\n",
    "# options.add_argument('--incognito')\n",
    "options.add_argument('--headless')\n",
    "driver = webdriver.Chrome(\"/usr/lib/chromium-browser/chromedriver\", chrome_options=options)"
   ]
  },
  {
   "cell_type": "code",
   "execution_count": 8,
   "metadata": {},
   "outputs": [],
   "source": [
    "driver.get(url_2019)"
   ]
  },
  {
   "cell_type": "code",
   "execution_count": 9,
   "metadata": {},
   "outputs": [],
   "source": [
    "page_source = driver.page_source\n"
   ]
  },
  {
   "cell_type": "code",
   "execution_count": 10,
   "metadata": {},
   "outputs": [
    {
     "data": {
      "text/plain": [
       "'<html lang=\"en-US\" class=\"lang-en\"><head>\\n    <title>Just a moment...</title>\\n    <meta http-equiv=\"Content-Type\" content=\"text/html; charset=UTF-8\">\\n    <meta http-equiv=\"X-UA-Compatible\" content=\"IE=Edge\">\\n    <meta name=\"robots\" content=\"noindex,nofollow\">\\n    <meta name=\"viewport\" content=\"width=device-width,initial-scale=1\">\\n    <link href=\"/cdn-cgi/styles/challenges.css\" rel=\"stylesheet\">\\n    \\n\\n<script src=\"/cdn-cgi/challenge-platform/h/b/orchestrate/managed/v1?ray=7bd22d6a1d562f03\"></script><script src=\"https://challenges.cloudflare.com/turnstile/v0/api.js?onload=_cf_chl_turnstile_l&amp;render=explicit\" async=\"\" defer=\"\" crossorigin=\"anonymous\"></script></head>\\n<body class=\"no-js\">\\n    <div class=\"main-wrapper\" role=\"main\">\\n    <div class=\"main-content\">\\n        <h1 class=\"zone-name-title h1\"><img src=\"/favicon.ico\" class=\"heading-favicon\" alt=\"Icon for pubs.acs.org\">pubs.acs.org</h1><h2 id=\"challenge-running\" class=\"h2\">Checking if the site connection is secure</h2><div id=\"challenge-stage\" style=\"display: block;\"><div id=\"turnstile-wrapper\" class=\"captcha-prompt spacer\"><div class=\"hcaptcha-box\"><iframe src=\"https://challenges.cloudflare.com/cdn-cgi/challenge-platform/h/b/turnstile/if/ov2/av0/1kou7/0x4AAAAAAAAjq6WYeRDKmebM/light/normal\" allow=\"cross-origin-isolated\" id=\"cf-chl-widget-1kou7\" tabindex=\"0\" title=\"Widget containing a Cloudflare security challenge\" style=\"border: none; overflow: hidden; width: 300px; height: 65px;\"></iframe><input type=\"hidden\" name=\"cf-turnstile-response\" id=\"cf-chl-widget-1kou7_response\"><input type=\"hidden\" name=\"cf_challenge_response\" id=\"cf-chl-widget-1kou7_legacy_response\"></div></div></div><div id=\"challenge-spinner\" class=\"spacer loading-spinner\" style=\"display: none; visibility: hidden;\"><div class=\"lds-ring\"><div></div><div></div><div></div><div></div></div></div><div id=\"challenge-body-text\" class=\"core-msg spacer\">pubs.acs.org needs to review the security of your connection before proceeding.</div><div id=\"challenge-explainer-expandable\" class=\"hidden expandable body-text spacer\" style=\"display: block; visibility: visible;\"><div class=\"expandable-title\" id=\"challenge-explainer-summary\"><button class=\"expandable-summary-btn\" id=\"challenge-explainer-btn\" type=\"button\">Why am I seeing this page?<span class=\"caret-icon-wrapper\"> <div class=\"caret-icon\"></div> </span> </button> </div> <div class=\"expandable-details\" id=\"challenge-explainer-details\">Requests from malicious bots can pose as legitimate traffic. Occasionally, you may see this page while the site ensures that the connection is secure.</div></div><div id=\"challenge-success\" style=\"display: none;\"><div class=\"h2\"><span class=\"icon-wrapper\"><img class=\"heading-icon\" alt=\"Success icon\" src=\"data:image/png;base64,iVBORw0KGgoAAAANSUhEUgAAADQAAAA0CAMAAADypuvZAAAANlBMVEUAAAAxMTEwMDAxMTExMTEwMDAwMDAwMDAxMTExMTExMTEwMDAwMDAxMTExMTEwMDAwMDAxMTHB9N+uAAAAEXRSTlMA3zDvfyBAEJC/n3BQz69gX7VMkcMAAAGySURBVEjHnZZbFoMgDEQJiDzVuv/NtgbtFGuQ4/zUKpeMIQbUhXSKE5l1XSn4pFWHRm/WShT1HRLWC01LGxFEVkCc30eYkLJ1Sjk9pvkw690VY6k8DWP9OM9yMG0Koi+mi8XA36NXmW0UXra4eJ3iwHfrfXVlgL0NqqGBHdqfeQhMmyJ48WDuKP81h3+SMPeRKkJcSXiLUK4XTHCjESOnz1VUXQoc6lgi2x4cI5aTQ201Mt8wHysI5fc05M5c81uZEtHcMKhxZ7iYEty1GfhLvGKpm+EYkdGxm1F5axmcB93DoORIbXfdN7f+hlFuyxtDP+sxtBnF43cIYwaZAWRgzxIoiXEMESoPlMhwLRDXeK772CAzXEdBRV7cmnoVBp0OSlyGidEzJTFq5hhcsA5388oSGM6b5p+qjpZrBlMS9xj4AwXmz108ukU1IomM3ceiW0CDwHCqp1NjAqXlFrbga+xuloQJ+tuyfbIBPNpqnmxqT7dPaOnZqBfhSBCteJAxWj58zLk2xgg+SPGYM6dRO6WczSnIxxwEExRaO+UyCUhbOp7CGQ+kxSUfNtLQFC+Po29vvy7jj4y0yAAAAABJRU5ErkJggg==\"></span>Connection is secure</div><div class=\"core-msg spacer\">Proceeding...</div></div><noscript>\\n            <div id=\"challenge-error-title\">\\n                <div class=\"h2\">\\n                    <span class=\"icon-wrapper\">\\n                        <div class=\"heading-icon warning-icon\"></div>\\n                    </span>\\n                    <span id=\"challenge-error-text\">\\n                        Enable JavaScript and cookies to continue\\n                    </span>\\n                </div>\\n            </div>\\n        </noscript>\\n        <div id=\"trk_jschal_js\" style=\"display:none;background-image:url(\\'/cdn-cgi/images/trace/managed/nojs/transparent.gif?ray=7bd22d6a1d562f03\\')\"></div>\\n        <form id=\"challenge-form\" action=\"/toc/iecred/5751?__cf_chl_f_tk=jjYm5ISjelIm8YdQeCWCWZmfdsMwaPIlDAL0.mghWqI-1682379480-0-gaNycGzNCyU\" method=\"POST\" enctype=\"application/x-www-form-urlencoded\">\\n            <input type=\"hidden\" name=\"md\" value=\"zi11Xn3vWGj2eARdPb5cxPf9zzXkv.56FlFBn3k34Uk-1682379480-0-AWqn0lf0vJInuhVi1XIhg9x8s1xiiYYBX2h7I6nSN0mWdYB_xF5sz3t0MVepKslFM0ykFhOvBSCMR5RBBcpNxKGQHWbRNuCST71JPtPz_wWFeGdVUlLF17sEryPynjGtpeY-wF-v8F43TDF_cNxXQVJpDvekIKLjC9O2U-PJcHg_gHXup_9BC9jG7T5QWY_l-m-5VrMNOQDNzO4ACSwGY4SqiDbAWagVyHAzxseOG3VtAILGu5nATR_crXe1pQceUMCNRuUtzX0YLikFumoXUfIXvmQcMssIYPX5aZIu014YjVFCZKcKT7uq1l96rcG2UpATXmppCR4tl1PpHeKQ97e7hn3FdSUhc24zuzfygolKH3rN2BfrIoxDInTE2nePKJgLp6dAUA_mM-ZLioM7RIpfUUvoVlasGrrALrrsRZ8q55gnhvGhoMkhTpQkAn3-ZSlvA02-qxKxFrxs8WRrqNGqX1O_1p8fFmGLngwB6I-oZPJVMj-Ho2Lc7yHPy5EUcFlHI21EFB1fjPsrpEBmffZMvWNixucRtwvy99M2fpIxSjIMKuDBGjQMdQyUAN6nEPsGdCI7xwEQ7n1xInuxBUEFV29U-F3vsBiLBqiQrBHDhemiL2uu_upuFGRu-tsmxFjaEp_WNt-h8yGk9WFlqY-EMo1HvXIkKnzmZxWIcrNTD41I2amz5yUouIXFdhFWO1iF2c7kUYqa9EYsry9ak_m7Jtq2NLZh-38b2gEhR2T1l-y1QWrcPLjASo5F0X0-m7h3hzlOtdlAWvY17AfGuGd1-EyWiBNN1zu8xb0Ml8CTFVbB-8oHixCCK9YXFeEMxLu7MCDeuLj26LfScbMfSiSp8faBbwWNc6cRGZ8XcvaL18Z0yiG-O6_jcQDHCC75b2q6hecu7wM1b9WycyEc9g4FyOKIEwOj7R8w1nWK6dr1WS17fgQ2GlhtqkjPpwsKosoNDAdbqvC01nmSXhAcBQa1YsRDiYwG9iRLAyoRJD_mw2gQl_Y2btrcVCdYUgWCGVJTP0RKXIU2NQd9LmktD_JOEbevzqL6PF26s1CmE3j54suCB_g325XzYImax0kBRHLakjY_M1A0_c_8EH8TMhuwSJ1SDoxfd1l2v4a9qecEBbT4TcwdJJP31JOeayWt5vEVU7NzpYdKLYUZKuzcyHky5aZTv2kRLmBODYfKl5EV_mUKoxviHuNwAymC9H9jYO0HPmiemNWeojUInNC7E6cLqm9VdNnNhjRYfKPXac0JMTY8qQNG1hHucH0OzfjZI-8vN2bML-9HO51KGaWoxAC83t4iZNayOvJW8Br_WkMN-UqfkwDTR-FQF7K_f5wtLXBR7SvkoMwEstTWuOeKsRcmlFFl4QRPZ0ABhOjdx9UlKMxjc1CGo7O5kg_f5jvwA9t-ChT7CQbzPF67B1Ma8_UMN_gvv1B2cM30vXqcFjyz13C0AzTeX0f_gMtfh7adnJJHcR4_nTsQm2TPGwVKPGg72Ghok8TnifT7UI-KFPymUKpqb54CpNCJod4LVxbVabo5UJ2iic3P2nJdvpP7X_gGi3JGrjUqU15nINJSUYAlu_1lpP8WuhOZEDzo7pad6mswmZbgDig-jz9fqNx2o-lTBXuwR715YNOXLaM2iTmcmDtgmi3dn97b1qh3NRWcnjgZ4eBBdnfT2qywnUGONlrmJnJxKjDYgwpk-mkayZxZBeBe057HJXO9l1veNuYqbgGi6Hgk6843xban9avT01yP6mhwwrVhWTfE4qN85MIrQ1X4qO1wZooSIHruK-qGazZRyowjbq3DX5HbZQIr6aS9dKWWxbP1zEBG7yJ9jY9JdG2K9_ioQOWPKZFCMy4JWo-WBoGJRD2IHQ2KrjF4yjZrcQnnof_ub8WtYlAci_pTpBM_TaM6Y3jTOOc7YBIOwRu7gxbVguUj22DNEywjy8mekzc9a8vCRrIENwPH5zbT_UMgOqepzbHS-sXfwOq5duxvFcVJ0Yz5jw3DroFzjFtuTojRvUFZ2A5YcbHEuP8OJPmfNl_unxZO1r7WMOwAX1_AcFcEIRv_W2u9hWCBkwACyR_QUOoQViX6QdH5jfyAiJhCvW2BtjfDAqE3FWz11MhQf0vwDkXPF4xAXSYFDEeoESZstzsRFNn7YQm3jXefdsGv-RYO9sQssCzYpwjv2BP6nwWL4ty2XEElNJJ_KYqjo9l4ykJKGDqddU13Ma5jqLYpGgQDwtAsYcfOcaSflJd5lpir0y3NJCkyhklbJXRum34PTFKAFVVGkF7GjQBnVZWCi9WC7y6KLKCHEotQ4Hvp73GFeRgjr2L_5bK-erQitPHkpXb0elyI56zUMImD47uXKzfRzBJaAfO3uRQuTO2ZSzC4gMz-YVUxhqZ7FoYWPw6RViklj1Qrcb2klZ9LqyXY3yVvgbgbeRbRVp1qZG3Jk6RG5jdVEVVAYqJNQNS6wBO_GmMgOMTGBX0T8PmBJEJZCP3-IoRLoEdwnPyIElJwTlFLBhccfhqtILMCqTZvoWBXURNxLvYWrkPtWEsRcb3FzCR_aPJDcxFBE7xoyhg-kBUH2XjrOcAknub8GVW32rUnxidPrBHY_NIvk62DK8TfSXh0wt0-BTrGtAJAbKeTI8Dwtq9iPJjnrUJ7CpXS6vptFUDuIzHxQ6H6p0ZQmqyRwZR772XBjJNN3vwXUM4QGSMd42v_YX04uvQuHyT9yzpDM7wmzOkS4vj7WwJvL2TwEYgaMWBLBMI_UgmMGOw2HJM-x0x-pSiupq6N7bNys49UO55Yv15aeSvfYtDz\">\\n        <span style=\"display: none;\"><span class=\"text-gray-600\" data-translate=\"error\" style=\"display: none;\">error code: 1020</span></span></form>\\n    </div>\\n</div>\\n<script>\\n    (function(){\\n        window._cf_chl_opt={\\n            cvId: \\'2\\',\\n            cZone: \\'pubs.acs.org\\',\\n            cType: \\'managed\\',\\n            cNounce: \\'74685\\',\\n            cRay: \\'7bd22d6a1d562f03\\',\\n            cHash: \\'8863d4e2b4357d8\\',\\n            cUPMDTk: \"\\\\/toc\\\\/iecred\\\\/5751?__cf_chl_tk=jjYm5ISjelIm8YdQeCWCWZmfdsMwaPIlDAL0.mghWqI-1682379480-0-gaNycGzNCyU\",\\n            cFPWv: \\'b\\',\\n            cTTimeMs: \\'1000\\',\\n            cMTimeMs: \\'0\\',\\n            cTplV: 5,\\n            cTplB: \\'cf\\',\\n            cK: \"\",\\n            cRq: {\\n                ru: \\'aHR0cHM6Ly9wdWJzLmFjcy5vcmcvdG9jL2llY3JlZC81NzUx\\',\\n                ra: \\'TW96aWxsYS81LjAgKFdpbmRvd3MgTlQgMTAuMDsgV2luNjQ7IHg2NCkgQXBwbGVXZWJLaXQvNTM3LjM2IChLSFRNTCwgbGlrZSBHZWNrbykgSGVhZGxlc3NDaHJvbWUvMTEyLjAuNTYxNS4xMzggU2FmYXJpLzUzNy4zNg==\\',\\n                rm: \\'R0VU\\',\\n                d: \\'NB2b+x0ZF1KSuyM4bBLnkV5G77cyrjXUOng8xYU/cG5ngszaG1MqCZK7N1hHZ30OsiZjILJL1uekfohiKCAk4+uQwypcZMdaInx5SFexgLMlLRfrZeyd/63pflhyved4T8Hmx0xfNr79QG/H1PBGbizCLra1HQh9fjIz4F1APIXu5jHKBIJ9+aqssExFNPTASJ2BkfffG25IzpKZoi23IPE22zqYvTus4mgxbV+6y02aMtejmwdiiALRWZgBZuDE/Cbzq6+IGX/w3tCMpu7X8G/SugHiP47efQhshAg8Di1DMKZSp6nY42lR82WJRSlk8bywfZLZwveE5EoSlSDDqp13DJWrJ7H3+2SVAb9LiXmsyNAiQxBRFfhH+hecj/OG0RYaoSRrMNcup0uYHngdJQlLglQgARS61YAuLRh18Ad1ONcbU5yo/OH4S/RztRLz3hR66pw1CXl4GzfWo07qOxgGhdyz6NMemo9IQ13Tiw+Am/Rt7g9okvn6XtxQJeerJPUc+NuuvrtPERxTZOkzKLdYY8QR57oErn45L4mTcVvDOYNO56ld8b/pGvJ2twpG0ANKlYBYxGzBLMSLFzLbzA==\\',\\n                t: \\'MTY4MjM3OTQ4MC42NjMwMDA=\\',\\n                m: \\'ixAs1IcrMTfg9CePPvDjIhj/Q8TPxZQJfP0lP5/yNaU=\\',\\n                i1: \\'HF8uwgsyFoigIREhXoOlrA==\\',\\n                i2: \\'MnYe7Jo46bOAYSPXpfGiow==\\',\\n                zh: \\'njzCbvNg3kASlWg1TlFpRir5Oy9IF15VINCDsjjWRxY=\\',\\n                uh: \\'CvJrV3r3dKpPvQjauSForS1vmUJ6tdvEbng0p11B4XQ=\\',\\n                hh: \\'7SNHmQy13lwe15NTBbLOBcoLehKqRMIVsHw90dcPYHw=\\',\\n            }\\n        };\\n        var trkjs = document.createElement(\\'img\\');\\n        trkjs.setAttribute(\\'src\\', \\'/cdn-cgi/images/trace/managed/js/transparent.gif?ray=7bd22d6a1d562f03\\');\\n        trkjs.setAttribute(\\'alt\\', \\'\\');\\n        trkjs.setAttribute(\\'style\\', \\'display: none\\');\\n        document.body.appendChild(trkjs);\\n        var cpo = document.createElement(\\'script\\');\\n        cpo.src = \\'/cdn-cgi/challenge-platform/h/b/orchestrate/managed/v1?ray=7bd22d6a1d562f03\\';\\n        window._cf_chl_opt.cOgUHash = location.hash === \\'\\' && location.href.indexOf(\\'#\\') !== -1 ? \\'#\\' : location.hash;\\n        window._cf_chl_opt.cOgUQuery = location.search === \\'\\' && location.href.slice(0, location.href.length - window._cf_chl_opt.cOgUHash.length).indexOf(\\'?\\') !== -1 ? \\'?\\' : location.search;\\n        if (window.history && window.history.replaceState) {\\n            var ogU = location.pathname + window._cf_chl_opt.cOgUQuery + window._cf_chl_opt.cOgUHash;\\n            history.replaceState(null, null, \"\\\\/toc\\\\/iecred\\\\/5751?__cf_chl_rt_tk=jjYm5ISjelIm8YdQeCWCWZmfdsMwaPIlDAL0.mghWqI-1682379480-0-gaNycGzNCyU\" + window._cf_chl_opt.cOgUHash);\\n            cpo.onload = function() {\\n                history.replaceState(null, null, ogU);\\n            };\\n        }\\n        document.getElementsByTagName(\\'head\\')[0].appendChild(cpo);\\n    }());\\n</script><img src=\"/cdn-cgi/images/trace/managed/js/transparent.gif?ray=7bd22d6a1d562f03\" alt=\"\" style=\"display: none\">\\n\\n\\n\\n\\n<div class=\"footer\" role=\"contentinfo\"><div class=\"footer-inner\"><div class=\"clearfix diagnostic-wrapper\"><div class=\"ray-id\">Ray ID: <code>7bd22d6a1d562f03</code></div></div><div class=\"text-center\" id=\"footer-text\">Performance &amp; security by <a rel=\"noopener noreferrer\" href=\"https://www.cloudflare.com?utm_source=challenge&amp;utm_campaign=m\" target=\"_blank\">Cloudflare</a></div></div></div><span id=\"trk_jschal_js\"></span></body></html>'"
      ]
     },
     "execution_count": 10,
     "metadata": {},
     "output_type": "execute_result"
    }
   ],
   "source": [
    "page_source"
   ]
  },
  {
   "cell_type": "code",
   "execution_count": 3,
   "metadata": {},
   "outputs": [],
   "source": [
    "url_2019_response = requests.get(url_2019)\n",
    "soup_2019 = BeautifulSoup(url_2019_response.content, \"html.parser\")"
   ]
  },
  {
   "cell_type": "code",
   "execution_count": 4,
   "metadata": {},
   "outputs": [
    {
     "data": {
      "text/plain": [
       "<!DOCTYPE html>\n",
       "\n",
       "<html lang=\"en-US\">\n",
       "<head>\n",
       "<title>Just a moment...</title>\n",
       "<meta content=\"text/html; charset=utf-8\" http-equiv=\"Content-Type\"/>\n",
       "<meta content=\"IE=Edge\" http-equiv=\"X-UA-Compatible\"/>\n",
       "<meta content=\"noindex,nofollow\" name=\"robots\"/>\n",
       "<meta content=\"width=device-width,initial-scale=1\" name=\"viewport\"/>\n",
       "<link href=\"/cdn-cgi/styles/challenges.css\" rel=\"stylesheet\"/>\n",
       "</head>\n",
       "<body class=\"no-js\">\n",
       "<div class=\"main-wrapper\" role=\"main\">\n",
       "<div class=\"main-content\">\n",
       "<noscript>\n",
       "<div id=\"challenge-error-title\">\n",
       "<div class=\"h2\">\n",
       "<span class=\"icon-wrapper\">\n",
       "<div class=\"heading-icon warning-icon\"></div>\n",
       "</span>\n",
       "<span id=\"challenge-error-text\">\n",
       "                        Enable JavaScript and cookies to continue\n",
       "                    </span>\n",
       "</div>\n",
       "</div>\n",
       "</noscript>\n",
       "<div id=\"trk_jschal_js\" style=\"display:none;background-image:url('/cdn-cgi/images/trace/managed/nojs/transparent.gif?ray=7bd221dc7c8d7c6d')\"></div>\n",
       "<form action=\"/toc/iecred/5751?__cf_chl_f_tk=N6pULFpdUp11LDDQqNGGMKQlTumya5X52sN5TG3tapM-1682379007-0-gaNycGzNClA\" enctype=\"application/x-www-form-urlencoded\" id=\"challenge-form\" method=\"POST\">\n",
       "<input name=\"md\" type=\"hidden\" value=\"hLIGLwYLnHCHHkUzLouI2zE6zN0g1GP7QwX6kymWIV4-1682379007-0-AVlMSKQ_fkjaHL_mZPHMZslcFVZBHqZhHXrnCRuDDZnA6yY3E83YvKXzLD3b55b-jiYf2Zn6LdwbvsjkQsfUxk2a4NrLUqmkbx2fYInafHXc4RzjWiavZ8KsbIIoZTQwpVpJZ7gG5ZxWQB0cJmOfbHa5vHy47S6-cwDOOJFx152EgWkastgb8Frep8xqlJCxzUDc_3GsuD2SiKVTvYutIFQVeTxue2mi26N4JroBxQTPaKE7SBciyyUi_W2NEwg6vOYJZV_9MuTx5Itb9vazLo937BfW9PZE4JKkKuhOC4i4XZa3AblVKj1gFdFyCAXdcg4HSVB8ES1NoPCZG6hGrzTgsHoLwpwwZ_Xo-BZh-x3j090LqO-ea3ZdmCKCNfH6rF0Bi1ZFxYQsIgWsmcZTTDXTunatgS0kLxJ4r-bg50dzzfpoIY5mUWtCnkq90tnr6Jp8lf2WbnZbmDh3X-SHHwugFPlSywiu6YMysEIPUWg9MpWsenf3zDN8z0eCQ24_FyAISaXuy4g3ZdbzvmDB01IkNBBi90qMvjp9wqMvnRuIGrDB1C0KC0ApuTppAWHvlJohdJK73kBCFHQ46hY9f759kplKsURVvgmTStpELxWJI4fj9n-yo4AHtO2U1D36x_W3YmDRviXEqEs14J3eQl2n791pKr9F98qQNWRRtHSWQV9L8CnQtwDYHF56p2iMAHMP67FmNMIe9fVTwlvsL7JqKqE2sFVthGMVVXpcgb6Yzxi_lZuaq1GsfZ97vX80n5enRmvjx_xLVCP6-YxxdoZhfdNlOCVTqdC6kSvcRoEOUijaZFDPYGgFp2VrPNocdpefFu-N4X9pgOcdNcVChkwznkC4O0Zjh_n-8NRAZH5pbrTRtCtwqcL8hNMUz6VONTjNjAA1KdbkUDaqJMJyWYTOTVGII5gfp1iCFiqRGEq3oGnWtXETyWZwgbBIY4YzqYTaQl-UbZLgQkEjv9DhmmEcP-loA198EulVz1Cv6WrGlAgAzQINkA3Odhgr2SUM9rVIb0I7zDPAnF9wogFgIK5DhL2e9cAyDr4grNixmHnGzPEyLCsGYr7_qTkgApUYNNwA5qrNiANuKW-EXOXC6a3QlVBDKxtHFnVfk4_W03G4S8MbQ4DohdQ4hU1k_lCSsC914fh1a8TKyKhvBcDmBPbxxfJlIghw2UAC1GI6X88N8GHVGPpvOrxoN_bh42K15Jxl4IFwIQ5teBoPNZscdq3Az_xxTv8HZM9xzpypLWTAz5HyxdTj9mDOHPIHtY4AW5PY9kd20cu9w9ggR2jALc1SpKbQigXNHqUknkUTs9kvEtKfK3Ys9X9fXhkWQJmCWjxTMHoH_jB4oynM-oWRXAT6wvA9sMwGIcUE9nZAGYkc60IMbTDAIg_fR1eK521AIF-EBh-GtxJWDqUEld3DD0M3MQAPJyj67PO4iZjU5lS1sko2k8APar2zTXPzUsg-d-wHdFhVudWIAuPWKmfc0RBmZJqLoTI2TuKkVu2YPv7R10nfT7FWimSVpi9bcetlE3FZrwZhO8wbBTx8rNLKJhm5hlRKGwOCJqt9o1vL4aTgs3dy59WLcgdL5xZR8hL-z57uZM5lNnFs3eAH0h0hAMolSGTH46WLNixjS0lHT0HKJnCnHO33oHdBk3LD5qpSPB_FiOi0qAoZkcKMVjm2OptCNeDzB4zj8h6kgzk36v1sRFC8Iw-OgoFTMV-clw_hXW9kZsROSh9DXMJWk-xirUxEJuHr1OM_YvnnYJryuLY9zVPV3_qJsM6cNlEHkTKOE4kiTT5AF56bmNH8WNA5YSPBMphPE9w2NkCfRTllox4N6TYkicS1qw2OgK8Cnd8KF9w6zs1fF42-ZWvMxuH7AAe31jLNPi-M25X4hRyu2EULiCwsyZ6slXUuYqP0OkHYvmIsyNnwGOBWAKIzgqsNqaMNyDq0pxZTz2mf0uLLXKWELtEWSbJTixR4F_8Sxj9p-NPYQbAAAVE0ukKdnqT5IaGT2PjO52p51odoXDcrfgA_DWV0Oz_GS-R_2vrwBCzksSd4KSM4dbCyG93KOHVG92z43dX3aL7a0Si6Y6ceIO5gYVqeZyoFShbsOpywFT3HhnJt-XY1xQbJxhpMt_O6Vvkq-DcnRMu_HrhuOrcvk-i-wrCUFYtYSyCmha2c1p7QRhKF7Bk3ArqqvZa_Sr_pmWJkYNDrGNa5K88aBOL4G9LetTtFPhQxoFHmqp46H8ZWX3B0An-19m4JNkPHHCeInlCiAd8xqnJCusNSh0VgCSz0I9nwZ0ApEROmuN1AEYjwzrfYd8_lgSsF-ryMOd4ORAxGQukPZxWBsMu3WYhAzSACruSwna2kl0C7dGWEE3guq_-C2ZhPEdYIJRs7l1fdAPd4eHsmKLqWsplFquMCKPeMiRxcJ2ZJjIALCb5vD3W3DXkLEpqgqneO9fcqTSVVN4DPNLPgI4zL2QKjUmjhsVrsuQ-nQcZuQ3Zv7K2TnG_LTdPC3aWwF5yUhDrSRkgFXHihMDJkVMvo5_BZTQ9NYV47cbvRxwu6ZtXJAorJECBWKu1w9vK6A1JFgCgWl2p6Css\"/>\n",
       "</form>\n",
       "</div>\n",
       "</div>\n",
       "<script>\n",
       "    (function(){\n",
       "        window._cf_chl_opt={\n",
       "            cvId: '2',\n",
       "            cZone: 'pubs.acs.org',\n",
       "            cType: 'managed',\n",
       "            cNounce: '72977',\n",
       "            cRay: '7bd221dc7c8d7c6d',\n",
       "            cHash: '24dfe3633ada17c',\n",
       "            cUPMDTk: \"\\/toc\\/iecred\\/5751?__cf_chl_tk=N6pULFpdUp11LDDQqNGGMKQlTumya5X52sN5TG3tapM-1682379007-0-gaNycGzNClA\",\n",
       "            cFPWv: 'b',\n",
       "            cTTimeMs: '1000',\n",
       "            cMTimeMs: '0',\n",
       "            cTplV: 5,\n",
       "            cTplB: 'cf',\n",
       "            cK: \"\",\n",
       "            cRq: {\n",
       "                ru: 'aHR0cHM6Ly9wdWJzLmFjcy5vcmcvdG9jL2llY3JlZC81NzUx',\n",
       "                ra: 'cHl0aG9uLXJlcXVlc3RzLzIuMjcuMQ==',\n",
       "                rm: 'R0VU',\n",
       "                d: '6YUnNqEPLSXkpZDhj4t4tEJW9mFtx9VSpHnlflG2mFxRBeWD+p+a8HxkKQDOep4hgfCUYicdu1n7agqWoEfkkg8RZLr87Ti8vB8I5tNVTeQMiOZS3olcZeD8GxmtgL3SNuLojZ2z7CobYRbIPnfZar9JFrmackpq4+02m5nfIjUsg+8hQp8bUFAoAwHHyaS/bskfdCuKeU/M9QY4d0rbFsxoAzF8A1T6xhsUnwJca2M7fo8mIFfDu7zfDzo0V55FeYUSV/yM6ByVI+NbnxSEg18grNHK4nH5Uxd+S/3dJ9kIXEVDN6TuX3L/hvCAGA4f2KJxMxqqOdTmChv6ecBEJMgEL5gNF9JSyQO550jM7B2NseNcA/bfcDRDeg6shFh5yfv3/wudjxbEAsf4CAzWQjk5pizxFvI5UeSADlNFCUTR+qA/ifxl8NqpDe3SW1rGWnZ0hcYzW7xb6vqmhkPHRpL+gYq0qT0Xa3pZ7tzA6h0h32s3jK7DZLKJbDrpM31YyGoEiBHgFcHpYiV85G2fRV8/rKOucMT+tchW66yzj7/X7GjQ3MZVtgq+me+z0T+Mk0BUBo60s6sFT1Qzs9VSbw==',\n",
       "                t: 'MTY4MjM3OTAwNy40NDIwMDA=',\n",
       "                m: 'cxaVxcgKbIhI7us9fyAGSXlOD8W775BXcKWxFcA+aes=',\n",
       "                i1: 'ydjDSWE/IE8W5jSwrC5+ZQ==',\n",
       "                i2: '664j8zl1dcRl41YxDl7Z5w==',\n",
       "                zh: 'njzCbvNg3kASlWg1TlFpRir5Oy9IF15VINCDsjjWRxY=',\n",
       "                uh: 'JNy/u1JaDY8l68+s834y37Qd6UIzTJLBzCkJPX4t/ps=',\n",
       "                hh: '7SNHmQy13lwe15NTBbLOBcoLehKqRMIVsHw90dcPYHw=',\n",
       "            }\n",
       "        };\n",
       "        var trkjs = document.createElement('img');\n",
       "        trkjs.setAttribute('src', '/cdn-cgi/images/trace/managed/js/transparent.gif?ray=7bd221dc7c8d7c6d');\n",
       "        trkjs.setAttribute('alt', '');\n",
       "        trkjs.setAttribute('style', 'display: none');\n",
       "        document.body.appendChild(trkjs);\n",
       "        var cpo = document.createElement('script');\n",
       "        cpo.src = '/cdn-cgi/challenge-platform/h/b/orchestrate/managed/v1?ray=7bd221dc7c8d7c6d';\n",
       "        window._cf_chl_opt.cOgUHash = location.hash === '' && location.href.indexOf('#') !== -1 ? '#' : location.hash;\n",
       "        window._cf_chl_opt.cOgUQuery = location.search === '' && location.href.slice(0, location.href.length - window._cf_chl_opt.cOgUHash.length).indexOf('?') !== -1 ? '?' : location.search;\n",
       "        if (window.history && window.history.replaceState) {\n",
       "            var ogU = location.pathname + window._cf_chl_opt.cOgUQuery + window._cf_chl_opt.cOgUHash;\n",
       "            history.replaceState(null, null, \"\\/toc\\/iecred\\/5751?__cf_chl_rt_tk=N6pULFpdUp11LDDQqNGGMKQlTumya5X52sN5TG3tapM-1682379007-0-gaNycGzNClA\" + window._cf_chl_opt.cOgUHash);\n",
       "            cpo.onload = function() {\n",
       "                history.replaceState(null, null, ogU);\n",
       "            };\n",
       "        }\n",
       "        document.getElementsByTagName('head')[0].appendChild(cpo);\n",
       "    }());\n",
       "</script>\n",
       "</body>\n",
       "</html>"
      ]
     },
     "execution_count": 4,
     "metadata": {},
     "output_type": "execute_result"
    }
   ],
   "source": [
    "soup_2019"
   ]
  },
  {
   "cell_type": "code",
   "execution_count": null,
   "metadata": {},
   "outputs": [],
   "source": [
    "from bs4 import BeautifulSoup\n",
    "import requests\n",
    "import os\n",
    "import pandas as pd\n",
    "import pdb\n",
    "from tqdm import tqdm\n",
    "baseurl = \"https://papers.nips.cc\"\n",
    "url_2019 = baseurl + \"/paper_files/paper/2019\"\n",
    "print(url_2019)\n",
    "url_2019_response = requests.get(url_2019)\n",
    "soup_2019 = BeautifulSoup(url_2019_response.content, \"html.parser\")\n",
    "# papers_2019 = soup_2019.find_all(\"li\", {\"class\": \"conference\"})\n",
    "papers_2019 = soup_2019.find_all(\"li\", {\"class\": \"none\"}) #for 2019\n",
    "papers_2019 = [(x.a.string, x.a[\"href\"]) for x in papers_2019]\n",
    "\n",
    "title = []\n",
    "authors = []\n",
    "abstract = []\n",
    "year = []\n",
    "\n",
    "bad_pages = []\n",
    "for paper in tqdm(papers_2019):\n",
    "    paper_page_url = baseurl+paper[1]\n",
    "    paper_page_url_response = requests.get(paper_page_url)\n",
    "    paper_soup = BeautifulSoup(paper_page_url_response.content, \"html.parser\")\n",
    "    paper_p = paper_soup.find_all(\"p\")\n",
    "    paper_title = paper[0]\n",
    "    paper_author = paper_p[1].i.string\n",
    "    if paper_p[2].string is not None:\n",
    "        paper_abstract = paper_p[2].string\n",
    "    elif paper_p[2].p is not None and paper_p[2].p.string is not None:\n",
    "        paper_abstract = paper_p[2].p.string\n",
    "    else:\n",
    "        bad_pages.append(paper_author)\n",
    "        continue\n",
    "\n",
    "    title.append(paper_title)\n",
    "    authors.append(paper_author)\n",
    "    abstract.append(paper_abstract)\n",
    "    year.append(\"2019\")\n",
    "\n",
    "df = pd.DataFrame(data={\"title\":title, \"authors\":authors, \"abstract\": abstract, \"year\": year})\n",
    "df.to_csv(\"nips_2019.csv\", index=False)\n",
    "print(bad_pages)\n",
    "print(df.head())"
   ]
  }
 ],
 "metadata": {
  "kernelspec": {
   "display_name": "base",
   "language": "python",
   "name": "python3"
  },
  "language_info": {
   "codemirror_mode": {
    "name": "ipython",
    "version": 3
   },
   "file_extension": ".py",
   "mimetype": "text/x-python",
   "name": "python",
   "nbconvert_exporter": "python",
   "pygments_lexer": "ipython3",
   "version": "3.9.12"
  },
  "orig_nbformat": 4
 },
 "nbformat": 4,
 "nbformat_minor": 2
}
